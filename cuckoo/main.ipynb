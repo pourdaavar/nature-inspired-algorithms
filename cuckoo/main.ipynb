{
 "cells": [
  {
   "cell_type": "markdown",
   "metadata": {},
   "source": [
    "## Cuckoo algorithms"
   ]
  },
  {
   "cell_type": "markdown",
   "metadata": {},
   "source": [
    "CS is one of the latest nature-inspired metaheuristic algorithms, developed in 2009\n",
    "by Xin-She Yang and Suash Deb"
   ]
  },
  {
   "cell_type": "markdown",
   "metadata": {},
   "source": [
    "\n",
    "<div align=\"center\">\n",
    "<img src=\"https://slides-theta.vercel.app/author.png\" style=\"text-align:center\"  alt=\"drawingXin-She Yang\" width=\"200\"/>\n",
    "</div>"
   ]
  },
  {
   "cell_type": "markdown",
   "metadata": {},
   "source": [
    "This algorithm is enhanced by the so-called Lévy flights rather than by simple isotropic random walks."
   ]
  },
  {
   "cell_type": "markdown",
   "metadata": {},
   "source": [
    "For simplicity in describing the standard CS, here we use the following three idealized rules:\n",
    " - Each cuckoo lays one egg at a time and dumps it in a randomly chosen nest.\n",
    " - The best nests with high-quality eggs will be carried over to the next generations.\n",
    " - The number of available host nests is fixed.\n",
    " - The egg laid by a cuckoo is discovered by the host bird with a probability $$P_a \\in (0,1)$$ \n",
    " - In this case, the host bird can either get rid of the egg or simply abandon the nest and build a completely new nest.\n"
   ]
  },
  {
   "cell_type": "markdown",
   "metadata": {},
   "source": [
    "For Implementation of algorithms, we should following these steps:\n",
    " - Lévy flights - Generate a set of solution\n",
    "\n",
    " - Replace some nests with new solutions\n",
    " - greedy selection strategy"
   ]
  },
  {
   "cell_type": "markdown",
   "metadata": {},
   "source": [
    "### Lévy flights\n",
    "\n",
    "A Lévy flight is a random walk in which the step-lengths have a stable distribution, a probability distribution that is heavy-tailed. When defined as a walk in a space of dimension greater than one, the steps made are in isotropic random directions. Later researchers have extended the use of the term \"Lévy flight\" to also include cases where the random walk takes place on a discrete grid rather than on a continuous space."
   ]
  },
  {
   "cell_type": "markdown",
   "metadata": {},
   "source": [
    "It's used to generate a new candidate solution (eggs):\n",
    "\n",
    "$$x_i^{t+1} = x_i^{t} + \\alpha\\otimes L(s, \\lambda)"
   ]
  },
  {
   "cell_type": "code",
   "execution_count": 3,
   "metadata": {},
   "outputs": [],
   "source": [
    "import numpy as np\n",
    "import math"
   ]
  },
  {
   "cell_type": "code",
   "execution_count": null,
   "metadata": {},
   "outputs": [],
   "source": []
  }
 ],
 "metadata": {
  "kernelspec": {
   "display_name": "Python 3",
   "language": "python",
   "name": "python3"
  },
  "language_info": {
   "codemirror_mode": {
    "name": "ipython",
    "version": 3
   },
   "file_extension": ".py",
   "mimetype": "text/x-python",
   "name": "python",
   "nbconvert_exporter": "python",
   "pygments_lexer": "ipython3",
   "version": "3.10.12"
  }
 },
 "nbformat": 4,
 "nbformat_minor": 2
}
