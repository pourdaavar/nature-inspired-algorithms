{
 "cells": [
  {
   "cell_type": "markdown",
   "metadata": {},
   "source": [
    "## Cuckoo algorithms"
   ]
  },
  {
   "cell_type": "markdown",
   "metadata": {},
   "source": [
    "CS is one of the latest nature-inspired metaheuristic algorithms, developed in 2009\n",
    "by Xin-She Yang and Suash Deb"
   ]
  },
  {
   "cell_type": "markdown",
   "metadata": {},
   "source": [
    "\n",
    "<div align=\"center\">\n",
    "<img src=\"https://slides-theta.vercel.app/author.png\" style=\"text-align:center\"  alt=\"drawingXin-She Yang\" width=\"200\"/>\n",
    "</div>"
   ]
  },
  {
   "cell_type": "markdown",
   "metadata": {},
   "source": [
    "This algorithm is enhanced by the so-called Lévy flights rather than by simple isotropic random walks."
   ]
  },
  {
   "cell_type": "markdown",
   "metadata": {},
   "source": [
    "For simplicity in describing the standard CS, here we use the following three idealized rules:\n",
    " - Each cuckoo lays one egg at a time and dumps it in a randomly chosen nest.\n",
    " - The best nests with high-quality eggs will be carried over to the next generations.\n",
    " - The number of available host nests is fixed.\n",
    " - The egg laid by a cuckoo is discovered by the host bird with a probability $$P_a \\in (0,1)$$ \n",
    " - In this case, the host bird can either get rid of the egg or simply abandon the nest and build a completely new nest.\n"
   ]
  },
  {
   "cell_type": "markdown",
   "metadata": {},
   "source": [
    "For Implementation of algorithms, we should following these steps:\n",
    " - Lévy flights - Generate a set of solution\n",
    "\n",
    " - Replace some nests with new solutions\n",
    " - greedy selection strategy"
   ]
  },
  {
   "cell_type": "markdown",
   "metadata": {},
   "source": [
    "### Lévy flights\n",
    "\n",
    "A Lévy flight is a random walk in which the step-lengths have a stable distribution, a probability distribution that is heavy-tailed. When defined as a walk in a space of dimension greater than one, the steps made are in ropic random directions. Later researchers have extended the use of the term \"Lévy flight\" to also include cases where the random walk takes place on a discrete grid rather than on a continuous space.\n",
    "\n",
    "\n"
   ]
  },
  {
   "cell_type": "markdown",
   "metadata": {},
   "source": [
    "It's used to generate a new candidate solution (eggs):\n",
    "\n",
    "$$x_i^{t+1} = x_i^{t} + \\alpha\\otimes L(\\lambda)"
   ]
  },
  {
   "cell_type": "markdown",
   "metadata": {},
   "source": [
    "$$L(s,\\lambda) = \\frac{\\lambda\\Gamma(\\lambda)\\sin(\\frac{\\pi\\lambda}{2})}{\\pi} \\frac{1}{s^{1+\\lambda}}$$"
   ]
  },
  {
   "cell_type": "code",
   "execution_count": null,
   "metadata": {},
   "outputs": [],
   "source": [
    "import math\n",
    "import numpy as np\n",
    "import random\n",
    "import matplotlib.pyplot as plt\n",
    "from scipy.special import gamma\n",
    "from matplotlib import cm"
   ]
  },
  {
   "cell_type": "code",
   "execution_count": null,
   "metadata": {},
   "outputs": [],
   "source": [
    "\n",
    "def plot_result(obj_func, ranges):\n",
    "    fig = plt.figure()\n",
    "    ax = fig.gca(projection='3d')\n",
    "\n",
    "    # Make data\n",
    "    X = np.linspace(ranges[0], ranges[1], 100)\n",
    "    Y = np.linspace(ranges[0], ranges[1], 100)\n",
    "\n",
    "    X, Y = np.meshgrid(X, Y)\n",
    "    Z = obj_func(X, Y)\n",
    "\n",
    "    # Plot the surface\n",
    "    surf = ax.plot_surface(\n",
    "        X, Y, Z, rstride=1, cstride=1, cmap=cm.PRGn,\n",
    "        linewidth=0.08, antialiased=True,\n",
    "    )"
   ]
  },
  {
   "cell_type": "code",
   "execution_count": null,
   "metadata": {},
   "outputs": [],
   "source": [
    "def levy_flight(lambda_param = 3/2, dimension = 2):\n",
    "    \"\"\"Generate a levy flight.\"\"\"\n",
    "    sigma = (gamma(1 + lambda_param) * np.sin(np.pi * lambda_param / 2) /\n",
    "             (gamma((1 + lambda_param) / 2) * lambda_param * 2 ** ((lambda_param - 1) / 2))) ** (1 / lambda_param)\n",
    "    u = np.random.normal(0, sigma, dimension)\n",
    "    v = np.random.normal(0, 1, dimension)\n",
    "    step = u / abs(v) ** (1 / lambda_param)\n",
    "    return step"
   ]
  },
  {
   "cell_type": "code",
   "execution_count": null,
   "metadata": {},
   "outputs": [],
   "source": [
    "levy_flight(1.5, 2)"
   ]
  },
  {
   "cell_type": "code",
   "execution_count": null,
   "metadata": {},
   "outputs": [],
   "source": [
    "def generate_cuckoo(problem_ranges, population_size):\n",
    "    \"\"\"Generate a random cuckoo.\"\"\"\n",
    "    nests = []\n",
    "    for i in range(population_size):\n",
    "        X = round(random.uniform(problem_ranges[0], problem_ranges[1]), 4)\n",
    "        Y = round(random.uniform(problem_ranges[0], problem_ranges[1]), 4)\n",
    "        nests.append(np.array([X, Y]))\n",
    "    return nests"
   ]
  },
  {
   "cell_type": "code",
   "execution_count": null,
   "metadata": {},
   "outputs": [],
   "source": [
    "generate_cuckoo([-5,5], 3)"
   ]
  },
  {
   "cell_type": "code",
   "execution_count": null,
   "metadata": {},
   "outputs": [],
   "source": [
    "def plot_contour(ranges, obj_func):\n",
    "    \"\"\"Plot contour of the target function.\"\"\"\n",
    "    x = np.linspace(*ranges, 100)\n",
    "    y = np.linspace(*ranges, 100)\n",
    "    X, Y = np.meshgrid(x, y)\n",
    "    Z = obj_func(X, Y)\n",
    "    plt.contour(X, Y, Z, levels=50, cmap='viridis')\n"
   ]
  },
  {
   "cell_type": "code",
   "execution_count": null,
   "metadata": {},
   "outputs": [],
   "source": [
    "def plot_cuckoos(nests, color='red', label=None):\n",
    "    \"\"\"Plot cuckoos on the contour plot.\"\"\"\n",
    "    x_values = [nest[0] for nest in nests]\n",
    "    y_values = [nest[1] for nest in nests]\n",
    "    plt.scatter(x_values, y_values, color=color, label=label)"
   ]
  },
  {
   "cell_type": "code",
   "execution_count": null,
   "metadata": {},
   "outputs": [],
   "source": [
    "def cuckoo_search(iterations, population_size, lambda_param, obj_func, lb, ub, alpha = 0.01, discovery_rate = 0.25):\n",
    "    dim = 2  # Dimensionality of the problem (x, y)\n",
    "    lower_bound = lb\n",
    "    upper_bound = ub\n",
    "\n",
    "    # Initialize random population\n",
    "    nests = generate_cuckoo([lb, ub], population_size)\n",
    "    best_nest = min(nests, key=lambda nest: obj_func(*nest))\n",
    "\n",
    "\n",
    "    plt.figure(figsize=(7, 5))\n",
    "    plot_contour([lb, ub], obj_func)\n",
    "    plot_cuckoos(nests, color='red', label='Initial Cuckoos')\n",
    "    plt.legend()\n",
    "    plt.title(f\"Iteration 0/{iterations}, Best Value: {obj_func(*best_nest)}\")\n",
    "    plt.show()\n",
    "\n",
    "    for iteration in range(iterations):\n",
    "        # Generate a levy flight for each cuckoo\n",
    "        for i in range(population_size):\n",
    "            step_size = alpha * levy_flight(lambda_param, dim)\n",
    "            nests[i] += step_size\n",
    "\n",
    "            # Clip the solution to stay within bounds\n",
    "            nests[i] = np.clip(nests[i], lower_bound, upper_bound)\n",
    "\n",
    "        # Replace poorly performing nests with new solutions\n",
    "        nests.sort(key=lambda nest: obj_func(*nest))\n",
    "\n",
    "        for j in range(int(population_size * discovery_rate)):\n",
    "            new_nest = generate_cuckoo([lb, ub], 1)[0]\n",
    "            nests[-(j + 1)] = new_nest\n",
    "\n",
    "        # Update the best nest\n",
    "        current_best = min(nests, key=lambda nest: obj_func(*nest))\n",
    "        if obj_func(*current_best) < obj_func(*best_nest):\n",
    "            best_nest = current_best\n",
    "\n",
    "\n",
    "        if iteration % 100 == 0:\n",
    "            plt.figure(figsize=(7, 5))\n",
    "            plot_contour([lb, ub], obj_func)\n",
    "            plot_cuckoos(nests, color='red', label='Current Cuckoos')\n",
    "            plot_cuckoos([best_nest], color='blue', label='Best Nest')\n",
    "            plt.legend()\n",
    "            plt.title(f\"Iteration {iteration}/{iterations}, Best Value: {obj_func(*best_nest)}\")\n",
    "            plt.show()\n",
    "\n",
    "    return best_nest"
   ]
  },
  {
   "cell_type": "code",
   "execution_count": null,
   "metadata": {},
   "outputs": [],
   "source": [
    "iterations = 5000\n",
    "population_size = 100\n",
    "lambda_param = 1.5\n",
    "\n",
    "def obj_func(x,y):\n",
    "    return (1-x)**2 + 100*(y-x**2)**2\n",
    "\n",
    "\n",
    "best_solution = cuckoo_search(iterations, population_size, lambda_param, obj_func=obj_func, lb = -2.5, ub=2.5)\n",
    "print(\"Optimal Solution:\", best_solution)\n",
    "print(\"Optimal Value:\", obj_func(*best_solution))"
   ]
  },
  {
   "cell_type": "code",
   "execution_count": null,
   "metadata": {},
   "outputs": [],
   "source": [
    "iterations = 505\n",
    "population_size = 100\n",
    "lambda_param = 1.5\n",
    "\n",
    "def obj_func(x,y):\n",
    "    t1 = -np.sin(x)*np.sin(x**2/np.pi)**20\n",
    "    t2 = -np.sin(y)*np.sin(2*y**2/np.pi)**20\n",
    "    return t1+t2\n",
    "\n",
    "best_solution = cuckoo_search(iterations, population_size,  lambda_param, obj_func=obj_func, lb = 0, ub=4, alpha = 0.01,)\n",
    "print(\"Optimal Solution:\", best_solution)\n",
    "print(\"Optimal Value:\", obj_func(*best_solution))"
   ]
  }
 ],
 "metadata": {
  "kernelspec": {
   "display_name": "Python 3",
   "language": "python",
   "name": "python3"
  },
  "language_info": {
   "codemirror_mode": {
    "name": "ipython",
    "version": 3
   },
   "file_extension": ".py",
   "mimetype": "text/x-python",
   "name": "python",
   "nbconvert_exporter": "python",
   "pygments_lexer": "ipython3",
   "version": "3.10.12"
  }
 },
 "nbformat": 4,
 "nbformat_minor": 2
}
